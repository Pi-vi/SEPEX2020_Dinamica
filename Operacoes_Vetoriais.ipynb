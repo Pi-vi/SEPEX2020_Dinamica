{
 "cells": [
  {
   "cell_type": "markdown",
   "metadata": {},
   "source": [
    "# Operações Vetoriais\n",
    "### Professor Paulo Victor"
   ]
  },
  {
   "cell_type": "markdown",
   "metadata": {},
   "source": [
    "Importando bibliotecas:"
   ]
  },
  {
   "cell_type": "code",
   "execution_count": 1,
   "metadata": {},
   "outputs": [],
   "source": [
    "import sympy.physics.mechanics as me"
   ]
  },
  {
   "cell_type": "markdown",
   "metadata": {},
   "source": [
    "Para se definir a posição de uma partícula, um sistema de referência é necessário."
   ]
  },
  {
   "cell_type": "code",
   "execution_count": 2,
   "metadata": {},
   "outputs": [],
   "source": [
    "N = me.ReferenceFrame('N') # cria um sistema de referência"
   ]
  },
  {
   "cell_type": "markdown",
   "metadata": {},
   "source": [
    "Vetores unitários associados aos eixos do referencial criado:\n",
    "$$ \\hat{\\textbf{n}}_{x} $$\n",
    "$$ \\hat{\\textbf{n}}_{y} $$\n",
    "$$ \\hat{\\textbf{n}}_{z} $$"
   ]
  },
  {
   "cell_type": "code",
   "execution_count": 3,
   "metadata": {},
   "outputs": [
    {
     "data": {
      "text/latex": [
       "$\\displaystyle \\mathbf{\\hat{n}_x}$"
      ],
      "text/plain": [
       "N.x"
      ]
     },
     "execution_count": 3,
     "metadata": {},
     "output_type": "execute_result"
    }
   ],
   "source": [
    "N.x"
   ]
  },
  {
   "cell_type": "code",
   "execution_count": 4,
   "metadata": {},
   "outputs": [
    {
     "data": {
      "text/latex": [
       "$\\displaystyle \\mathbf{\\hat{n}_y}$"
      ],
      "text/plain": [
       "N.y"
      ]
     },
     "execution_count": 4,
     "metadata": {},
     "output_type": "execute_result"
    }
   ],
   "source": [
    "N.y"
   ]
  },
  {
   "cell_type": "code",
   "execution_count": 5,
   "metadata": {},
   "outputs": [
    {
     "data": {
      "text/latex": [
       "$\\displaystyle \\mathbf{\\hat{n}_z}$"
      ],
      "text/plain": [
       "N.z"
      ]
     },
     "execution_count": 5,
     "metadata": {},
     "output_type": "execute_result"
    }
   ],
   "source": [
    "N.z"
   ]
  },
  {
   "cell_type": "markdown",
   "metadata": {},
   "source": [
    "Criação (composição) de um vetor:\n",
    "$$ \\textbf{a} = 3 \\hat{\\textbf{n}}_{x} + 2 \\hat{\\textbf{n}}_{y} + 4 \\hat{\\textbf{n}}_{z} $$\n",
    "$$ \\textbf{b} = 5 \\hat{\\textbf{n}}_{x} + 7 \\hat{\\textbf{n}}_{y} - 3 \\hat{\\textbf{n}}_{z} $$"
   ]
  },
  {
   "cell_type": "code",
   "execution_count": 6,
   "metadata": {},
   "outputs": [
    {
     "data": {
      "text/latex": [
       "$\\displaystyle 3\\mathbf{\\hat{n}_x} + 2\\mathbf{\\hat{n}_y} + 4\\mathbf{\\hat{n}_z}$"
      ],
      "text/plain": [
       "3*N.x + 2*N.y + 4*N.z"
      ]
     },
     "execution_count": 6,
     "metadata": {},
     "output_type": "execute_result"
    }
   ],
   "source": [
    "a = 3*N.x + 2*N.y + 4*N.z\n",
    "a"
   ]
  },
  {
   "cell_type": "code",
   "execution_count": 7,
   "metadata": {},
   "outputs": [
    {
     "data": {
      "text/latex": [
       "$\\displaystyle 5\\mathbf{\\hat{n}_x} + 7\\mathbf{\\hat{n}_y} - 3\\mathbf{\\hat{n}_z}$"
      ],
      "text/plain": [
       "5*N.x + 7*N.y - 3*N.z"
      ]
     },
     "execution_count": 7,
     "metadata": {},
     "output_type": "execute_result"
    }
   ],
   "source": [
    "b = 5*N.x + 7*N.y - 3*N.z\n",
    "b"
   ]
  },
  {
   "cell_type": "markdown",
   "metadata": {},
   "source": [
    "Decomposição:"
   ]
  },
  {
   "cell_type": "code",
   "execution_count": 8,
   "metadata": {},
   "outputs": [
    {
     "data": {
      "text/latex": [
       "$\\displaystyle 4$"
      ],
      "text/plain": [
       "4"
      ]
     },
     "execution_count": 8,
     "metadata": {},
     "output_type": "execute_result"
    }
   ],
   "source": [
    "az = a.args[0][0][2]\n",
    "az"
   ]
  },
  {
   "cell_type": "markdown",
   "metadata": {},
   "source": [
    "Para escrever da seguinte forma:\n",
    "$$^{N}\\textbf{a} = \\left[ \\begin{array}{c} 3 \\\\ 2 \\\\ 4  \\end{array} \\right]$$"
   ]
  },
  {
   "cell_type": "code",
   "execution_count": 9,
   "metadata": {},
   "outputs": [
    {
     "data": {
      "text/latex": [
       "$\\displaystyle \\left[\\begin{matrix}3\\\\2\\\\4\\end{matrix}\\right]$"
      ],
      "text/plain": [
       "Matrix([\n",
       "[3],\n",
       "[2],\n",
       "[4]])"
      ]
     },
     "execution_count": 9,
     "metadata": {},
     "output_type": "execute_result"
    }
   ],
   "source": [
    "a.args[0][0]"
   ]
  },
  {
   "cell_type": "markdown",
   "metadata": {},
   "source": [
    "Adição:\n",
    "$$ \\textbf{c} = \\textbf{a} + \\textbf{b} $$"
   ]
  },
  {
   "cell_type": "code",
   "execution_count": 10,
   "metadata": {},
   "outputs": [
    {
     "data": {
      "text/latex": [
       "$\\displaystyle 8\\mathbf{\\hat{n}_x} + 9\\mathbf{\\hat{n}_y} + \\mathbf{\\hat{n}_z}$"
      ],
      "text/plain": [
       "8*N.x + 9*N.y + N.z"
      ]
     },
     "execution_count": 10,
     "metadata": {},
     "output_type": "execute_result"
    }
   ],
   "source": [
    "c = a + b \n",
    "c"
   ]
  },
  {
   "cell_type": "markdown",
   "metadata": {},
   "source": [
    "Criando um vetor unitário a partir de um vetor qualquer:\n",
    "$$ \\hat{\\textbf{n}}_{a} = \\dfrac{\\textbf{a}}{a} $$"
   ]
  },
  {
   "cell_type": "code",
   "execution_count": 11,
   "metadata": {},
   "outputs": [
    {
     "data": {
      "text/latex": [
       "$\\displaystyle \\sqrt{29}$"
      ],
      "text/plain": [
       "sqrt(29)"
      ]
     },
     "execution_count": 11,
     "metadata": {},
     "output_type": "execute_result"
    }
   ],
   "source": [
    "a.magnitude()"
   ]
  },
  {
   "cell_type": "code",
   "execution_count": 12,
   "metadata": {},
   "outputs": [
    {
     "data": {
      "text/latex": [
       "$\\displaystyle \\frac{3 \\sqrt{29}}{29}\\mathbf{\\hat{n}_x} + \\frac{2 \\sqrt{29}}{29}\\mathbf{\\hat{n}_y} + \\frac{4 \\sqrt{29}}{29}\\mathbf{\\hat{n}_z}$"
      ],
      "text/plain": [
       "3*sqrt(29)/29*N.x + 2*sqrt(29)/29*N.y + 4*sqrt(29)/29*N.z"
      ]
     },
     "execution_count": 12,
     "metadata": {},
     "output_type": "execute_result"
    }
   ],
   "source": [
    "na = a/a.magnitude()\n",
    "na"
   ]
  },
  {
   "cell_type": "code",
   "execution_count": 13,
   "metadata": {},
   "outputs": [
    {
     "data": {
      "text/latex": [
       "$\\displaystyle 1$"
      ],
      "text/plain": [
       "1"
      ]
     },
     "execution_count": 13,
     "metadata": {},
     "output_type": "execute_result"
    }
   ],
   "source": [
    "na.magnitude()"
   ]
  },
  {
   "cell_type": "markdown",
   "metadata": {},
   "source": [
    "Produto escalar:\n",
    "$$ c = \\textbf{a} \\circ \\textbf{b} $$"
   ]
  },
  {
   "cell_type": "code",
   "execution_count": 14,
   "metadata": {},
   "outputs": [
    {
     "data": {
      "text/latex": [
       "$\\displaystyle 17$"
      ],
      "text/plain": [
       "17"
      ]
     },
     "execution_count": 14,
     "metadata": {},
     "output_type": "execute_result"
    }
   ],
   "source": [
    "me.dot(a,b)"
   ]
  },
  {
   "cell_type": "code",
   "execution_count": 15,
   "metadata": {},
   "outputs": [
    {
     "data": {
      "text/latex": [
       "$\\displaystyle 17$"
      ],
      "text/plain": [
       "17"
      ]
     },
     "execution_count": 15,
     "metadata": {},
     "output_type": "execute_result"
    }
   ],
   "source": [
    "a.dot(b)"
   ]
  },
  {
   "cell_type": "markdown",
   "metadata": {},
   "source": [
    "Produto vetorial:\n",
    "$$ \\textbf{c} = \\textbf{a} \\times \\textbf{b} $$ "
   ]
  },
  {
   "cell_type": "code",
   "execution_count": 16,
   "metadata": {},
   "outputs": [
    {
     "data": {
      "text/latex": [
       "$\\displaystyle - 34\\mathbf{\\hat{n}_x} + 29\\mathbf{\\hat{n}_y} + 11\\mathbf{\\hat{n}_z}$"
      ],
      "text/plain": [
       "- 34*N.x + 29*N.y + 11*N.z"
      ]
     },
     "execution_count": 16,
     "metadata": {},
     "output_type": "execute_result"
    }
   ],
   "source": [
    "me.cross(a,b)"
   ]
  },
  {
   "cell_type": "code",
   "execution_count": 17,
   "metadata": {},
   "outputs": [
    {
     "data": {
      "text/latex": [
       "$\\displaystyle - 34\\mathbf{\\hat{n}_x} + 29\\mathbf{\\hat{n}_y} + 11\\mathbf{\\hat{n}_z}$"
      ],
      "text/plain": [
       "- 34*N.x + 29*N.y + 11*N.z"
      ]
     },
     "execution_count": 17,
     "metadata": {},
     "output_type": "execute_result"
    }
   ],
   "source": [
    "a.cross(b)"
   ]
  },
  {
   "cell_type": "markdown",
   "metadata": {},
   "source": [
    "Produtos múltiplos:\n",
    "Produto misto:\n",
    "$$ \\textbf{a} \\circ \\left( \\textbf{b} \\times \\textbf{d} \\right) $$"
   ]
  },
  {
   "cell_type": "code",
   "execution_count": 18,
   "metadata": {},
   "outputs": [
    {
     "data": {
      "text/latex": [
       "$\\displaystyle -43$"
      ],
      "text/plain": [
       "-43"
      ]
     },
     "execution_count": 18,
     "metadata": {},
     "output_type": "execute_result"
    }
   ],
   "source": [
    "d = 7*N.x + 9 * N.y -6*N.z\n",
    "me.dot(a,me.cross(b,d))"
   ]
  },
  {
   "cell_type": "markdown",
   "metadata": {},
   "source": [
    "Produto vetorial triplo:\n",
    "$$ \\textbf{a} \\times \\left( \\textbf{b} \\times \\textbf{d} \\right) $$"
   ]
  },
  {
   "cell_type": "code",
   "execution_count": 19,
   "metadata": {},
   "outputs": [
    {
     "data": {
      "text/latex": [
       "$\\displaystyle - 44\\mathbf{\\hat{n}_x} - 48\\mathbf{\\hat{n}_y} + 57\\mathbf{\\hat{n}_z}$"
      ],
      "text/plain": [
       "- 44*N.x - 48*N.y + 57*N.z"
      ]
     },
     "execution_count": 19,
     "metadata": {},
     "output_type": "execute_result"
    }
   ],
   "source": [
    "me.cross(a,me.cross(b,d))\n",
    "a.cross(b.cross(d))"
   ]
  },
  {
   "cell_type": "markdown",
   "metadata": {},
   "source": [
    "Diverenciação de vetores:\n",
    "$$ ^{N}\\dfrac{d \\textbf r}{dx} $$   \n",
    "Onde:\n",
    "$$ \\textbf{r} = 5x \\hat{\\textbf{n}}_{x} + x^{2} \\hat{\\textbf{n}}_{y} + 3y \\hat{\\textbf{n}}_{z} $$ \n",
    "Primeiramente precisamos criar as variáveis $x$ e $y$:"
   ]
  },
  {
   "cell_type": "code",
   "execution_count": 20,
   "metadata": {},
   "outputs": [],
   "source": [
    "import sympy as sy"
   ]
  },
  {
   "cell_type": "code",
   "execution_count": 21,
   "metadata": {},
   "outputs": [],
   "source": [
    "x,y = sy.symbols('x y')"
   ]
  },
  {
   "cell_type": "markdown",
   "metadata": {},
   "source": [
    "Vamos então criar o vetor $\\textbf{r}$:\n",
    "$$ \\textbf{r} = 5x \\hat{\\textbf{n}}_{x} + x^{2} \\hat{\\textbf{n}}_{y} + 3y \\hat{\\textbf{n}}_{z} $$"
   ]
  },
  {
   "cell_type": "code",
   "execution_count": 22,
   "metadata": {},
   "outputs": [
    {
     "data": {
      "text/latex": [
       "$\\displaystyle 5 x\\mathbf{\\hat{n}_x} + x^{2}\\mathbf{\\hat{n}_y} + 3 y\\mathbf{\\hat{n}_z}$"
      ],
      "text/plain": [
       "5*x*N.x + x**2*N.y + 3*y*N.z"
      ]
     },
     "execution_count": 22,
     "metadata": {},
     "output_type": "execute_result"
    }
   ],
   "source": [
    "r = 5*x*N.x + x**2*N.y + 3*y*N.z\n",
    "r"
   ]
  },
  {
   "cell_type": "markdown",
   "metadata": {},
   "source": [
    "$$ ^{N}\\dfrac{d \\textbf r}{dx} $$ "
   ]
  },
  {
   "cell_type": "code",
   "execution_count": 23,
   "metadata": {},
   "outputs": [
    {
     "data": {
      "text/latex": [
       "$\\displaystyle 5\\mathbf{\\hat{n}_x} + 2 x\\mathbf{\\hat{n}_y}$"
      ],
      "text/plain": [
       "5*N.x + 2*x*N.y"
      ]
     },
     "execution_count": 23,
     "metadata": {},
     "output_type": "execute_result"
    }
   ],
   "source": [
    "r.diff(x,N)"
   ]
  },
  {
   "cell_type": "code",
   "execution_count": 24,
   "metadata": {},
   "outputs": [
    {
     "data": {
      "text/latex": [
       "$\\displaystyle 3\\mathbf{\\hat{n}_z}$"
      ],
      "text/plain": [
       "3*N.z"
      ]
     },
     "execution_count": 24,
     "metadata": {},
     "output_type": "execute_result"
    }
   ],
   "source": [
    "r.diff(y,N)"
   ]
  }
 ],
 "metadata": {
  "kernelspec": {
   "display_name": "Python 3",
   "language": "python",
   "name": "python3"
  },
  "language_info": {
   "codemirror_mode": {
    "name": "ipython",
    "version": 3
   },
   "file_extension": ".py",
   "mimetype": "text/x-python",
   "name": "python",
   "nbconvert_exporter": "python",
   "pygments_lexer": "ipython3",
   "version": "3.8.3"
  }
 },
 "nbformat": 4,
 "nbformat_minor": 4
}
