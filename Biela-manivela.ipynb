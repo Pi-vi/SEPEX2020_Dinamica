{
 "cells": [
  {
   "cell_type": "markdown",
   "metadata": {},
   "source": [
    "# Cinemática de Mecanismos\n",
    "## Professor Paulo Victor"
   ]
  },
  {
   "cell_type": "markdown",
   "metadata": {},
   "source": [
    "Obtenha a velocidade do pistão para o instante de tempo $t=5s$. Considere: \\\\ $$\\theta = 0,5t rad$$ $$\\dot{\\theta} = 0.5 rad/s$$ $$L_a = 0,3m$$  $$L_b = 0,7m$$"
   ]
  },
  {
   "cell_type": "code",
   "execution_count": 4,
   "metadata": {},
   "outputs": [
    {
     "data": {
      "image/svg+xml": [
       "<svg xmlns:dc=\"http://purl.org/dc/elements/1.1/\" xmlns:cc=\"http://creativecommons.org/ns#\" xmlns:rdf=\"http://www.w3.org/1999/02/22-rdf-syntax-ns#\" xmlns:svg=\"http://www.w3.org/2000/svg\" xmlns=\"http://www.w3.org/2000/svg\" xmlns:sodipodi=\"http://sodipodi.sourceforge.net/DTD/sodipodi-0.dtd\" xmlns:inkscape=\"http://www.inkscape.org/namespaces/inkscape\" width=\"147.65387mm\" height=\"61.359169mm\" viewBox=\"0 0 147.65387 61.359169\" version=\"1.1\" id=\"svg8\" inkscape:version=\"1.0.1 (0767f8302a, 2020-10-17)\" sodipodi:docname=\"biela-manivela.svg\">\n",
       "  <defs id=\"defs2\">\n",
       "    <marker style=\"overflow:visible\" id=\"marker1435\" refX=\"0\" refY=\"0\" orient=\"auto\" inkscape:stockid=\"Arrow1Lend\" inkscape:isstock=\"true\">\n",
       "      <path transform=\"matrix(-0.8,0,0,-0.8,-10,0)\" style=\"fill:#000000;fill-opacity:1;fill-rule:evenodd;stroke:#000000;stroke-width:1pt;stroke-opacity:1\" d=\"M 0,0 5,-5 -12.5,0 5,5 Z\" id=\"path1433\"/>\n",
       "    </marker>\n",
       "    <marker style=\"overflow:visible\" id=\"marker1413\" refX=\"0\" refY=\"0\" orient=\"auto\" inkscape:stockid=\"Arrow1Lstart\" inkscape:isstock=\"true\">\n",
       "      <path transform=\"matrix(0.8,0,0,0.8,10,0)\" style=\"fill:#000000;fill-opacity:1;fill-rule:evenodd;stroke:#000000;stroke-width:1pt;stroke-opacity:1\" d=\"M 0,0 5,-5 -12.5,0 5,5 Z\" id=\"path1411\"/>\n",
       "    </marker>\n",
       "    <marker style=\"overflow:visible\" id=\"marker1227\" refX=\"0\" refY=\"0\" orient=\"auto\" inkscape:stockid=\"Arrow1Lend\" inkscape:isstock=\"true\">\n",
       "      <path transform=\"matrix(-0.8,0,0,-0.8,-10,0)\" style=\"fill:#ff0000;fill-opacity:1;fill-rule:evenodd;stroke:#ff0000;stroke-width:1pt;stroke-opacity:1\" d=\"M 0,0 5,-5 -12.5,0 5,5 Z\" id=\"path1225\"/>\n",
       "    </marker>\n",
       "    <marker style=\"overflow:visible\" id=\"marker1193\" refX=\"0\" refY=\"0\" orient=\"auto\" inkscape:stockid=\"Arrow1Lstart\" inkscape:isstock=\"true\">\n",
       "      <path transform=\"matrix(0.8,0,0,0.8,10,0)\" style=\"fill:#ff0000;fill-opacity:1;fill-rule:evenodd;stroke:#ff0000;stroke-width:1pt;stroke-opacity:1\" d=\"M 0,0 5,-5 -12.5,0 5,5 Z\" id=\"path1191\"/>\n",
       "    </marker>\n",
       "    <marker style=\"overflow:visible\" id=\"Arrow1Lstart\" refX=\"0\" refY=\"0\" orient=\"auto\" inkscape:stockid=\"Arrow1Lstart\" inkscape:isstock=\"true\" inkscape:collect=\"always\">\n",
       "      <path transform=\"matrix(0.8,0,0,0.8,10,0)\" style=\"fill:#ff0000;fill-opacity:1;fill-rule:evenodd;stroke:#ff0000;stroke-width:1pt;stroke-opacity:1\" d=\"M 0,0 5,-5 -12.5,0 5,5 Z\" id=\"path889\"/>\n",
       "    </marker>\n",
       "    <marker style=\"overflow:visible\" id=\"Arrow1Lend\" refX=\"0\" refY=\"0\" orient=\"auto\" inkscape:stockid=\"Arrow1Lend\" inkscape:isstock=\"true\" inkscape:collect=\"always\">\n",
       "      <path transform=\"matrix(-0.8,0,0,-0.8,-10,0)\" style=\"fill:#ff0000;fill-opacity:1;fill-rule:evenodd;stroke:#ff0000;stroke-width:1pt;stroke-opacity:1\" d=\"M 0,0 5,-5 -12.5,0 5,5 Z\" id=\"path892\"/>\n",
       "    </marker>\n",
       "  </defs>\n",
       "  <sodipodi:namedview id=\"base\" pagecolor=\"#ffffff\" bordercolor=\"#666666\" borderopacity=\"1.0\" inkscape:pageopacity=\"0.0\" inkscape:pageshadow=\"2\" inkscape:zoom=\"1.979899\" inkscape:cx=\"302.43217\" inkscape:cy=\"85.831119\" inkscape:document-units=\"mm\" inkscape:current-layer=\"layer1\" inkscape:document-rotation=\"0\" showgrid=\"false\" showguides=\"true\" inkscape:guide-bbox=\"true\" inkscape:snap-nodes=\"false\" inkscape:snap-global=\"false\" inkscape:window-width=\"1920\" inkscape:window-height=\"1016\" inkscape:window-x=\"0\" inkscape:window-y=\"27\" inkscape:window-maximized=\"1\">\n",
       "    <sodipodi:guide position=\"27.291595,21.239775\" orientation=\"0,-1\" id=\"guide837\"/>\n",
       "  </sodipodi:namedview>\n",
       "  <metadata id=\"metadata5\">\n",
       "    <rdf:RDF>\n",
       "      <cc:Work rdf:about=\"\">\n",
       "        <dc:format>image/svg+xml</dc:format>\n",
       "        <dc:type rdf:resource=\"http://purl.org/dc/dcmitype/StillImage\"/>\n",
       "        <dc:title/>\n",
       "      </cc:Work>\n",
       "    </rdf:RDF>\n",
       "  </metadata>\n",
       "  <g inkscape:label=\"Layer 1\" inkscape:groupmode=\"layer\" id=\"layer1\" transform=\"translate(-46.073888,-88.971787)\">\n",
       "    <path style=\"fill:none;stroke:#000000;stroke-width:0.7;stroke-linecap:butt;stroke-linejoin:miter;stroke-miterlimit:4;stroke-dasharray:none;stroke-opacity:1\" d=\"m 57.664388,125.46368 h 10.593798 l 6.025853,10.43709 H 52.416393 Z\" id=\"path857\"/>\n",
       "    <rect style=\"fill:#ffffff;stroke:#000000;stroke-width:0.7;stroke-miterlimit:4;stroke-dasharray:none\" id=\"rect10\" width=\"5.2892442\" height=\"54.141151\" x=\"138.3114\" y=\"-22.091949\" ry=\"2.6446221\" inkscape:transform-center-x=\"-18.801227\" inkscape:transform-center-y=\"-14.52191\" transform=\"rotate(52.310077)\"/>\n",
       "    <rect style=\"fill:#ffffff;stroke:#000000;stroke-width:0.7;stroke-miterlimit:4;stroke-dasharray:none\" id=\"rect853\" width=\"20.189341\" height=\"16.185692\" x=\"157.68295\" y=\"119.76421\"/>\n",
       "    <rect style=\"fill:#ffffff;stroke:#000000;stroke-width:0.699999;stroke-miterlimit:4;stroke-dasharray:none\" id=\"rect835\" width=\"5.2892442\" height=\"77.829567\" x=\"-52.52449\" y=\"130.21509\" ry=\"3.8017251\" inkscape:transform-center-x=\"32.68512\" inkscape:transform-center-y=\"-14.551955\" transform=\"rotate(-66.150301)\"/>\n",
       "    <circle style=\"fill:#ffffff;stroke:#000000;stroke-width:0.7;stroke-miterlimit:4;stroke-dasharray:none\" id=\"path841\" cx=\"101.62834\" cy=\"100.37824\" r=\"4.8302884\"/>\n",
       "    <circle style=\"fill:#ffffff;stroke:#000000;stroke-width:0.7;stroke-miterlimit:4;stroke-dasharray:none\" id=\"path843\" cx=\"101.51643\" cy=\"100.44621\" r=\"2.3659611\"/>\n",
       "    <circle style=\"fill:#ffffff;stroke:#000000;stroke-width:0.7;stroke-miterlimit:4;stroke-dasharray:none\" id=\"circle845\" cx=\"63.295891\" cy=\"128.97316\" r=\"4.8302884\"/>\n",
       "    <circle style=\"fill:#ffffff;stroke:#000000;stroke-width:0.7;stroke-miterlimit:4;stroke-dasharray:none\" id=\"circle847\" cx=\"63.183983\" cy=\"129.04114\" r=\"2.3659611\"/>\n",
       "    <circle style=\"fill:#ffffff;stroke:#000000;stroke-width:0.7;stroke-miterlimit:4;stroke-dasharray:none\" id=\"circle849\" cx=\"167.46436\" cy=\"128.44586\" r=\"4.8302884\"/>\n",
       "    <circle style=\"fill:#ffffff;stroke:#000000;stroke-width:0.7;stroke-miterlimit:4;stroke-dasharray:none\" id=\"circle851\" cx=\"167.35245\" cy=\"128.51384\" r=\"2.3659611\"/>\n",
       "    <path style=\"fill:none;stroke:#000000;stroke-width:0.264583px;stroke-linecap:butt;stroke-linejoin:miter;stroke-opacity:1\" d=\"m 46.110173,136.0462 c 2.059744,-0.58747 136.327557,0 136.327557,0\" id=\"path859\"/>\n",
       "    <path style=\"fill:none;stroke:#000000;stroke-width:0.264583px;stroke-linecap:butt;stroke-linejoin:miter;stroke-opacity:1\" d=\"m 49.215005,135.99382 14.243592,14.24359\" id=\"path861\"/>\n",
       "    <path style=\"fill:none;stroke:#000000;stroke-width:0.264583px;stroke-linecap:butt;stroke-linejoin:miter;stroke-opacity:1\" d=\"m 67.206683,135.99382 14.243592,14.24359\" id=\"path863\"/>\n",
       "    <path style=\"fill:none;stroke:#000000;stroke-width:0.264583px;stroke-linecap:butt;stroke-linejoin:miter;stroke-opacity:1\" d=\"m 83.081693,135.99382 14.243592,14.24359\" id=\"path865\"/>\n",
       "    <path style=\"fill:none;stroke:#000000;stroke-width:0.264583px;stroke-linecap:butt;stroke-linejoin:miter;stroke-opacity:1\" d=\"m 98.956703,135.99382 14.243667,14.24359\" id=\"path867\"/>\n",
       "    <path style=\"fill:none;stroke:#000000;stroke-width:0.264583px;stroke-linecap:butt;stroke-linejoin:miter;stroke-opacity:1\" d=\"m 115.89014,135.99382 14.24367,14.24359\" id=\"path869\"/>\n",
       "    <path style=\"fill:none;stroke:#000000;stroke-width:0.264583px;stroke-linecap:butt;stroke-linejoin:miter;stroke-opacity:1\" d=\"m 132.29441,135.99382 14.24367,14.24359\" id=\"path871\"/>\n",
       "    <path style=\"fill:none;stroke:#000000;stroke-width:0.264583px;stroke-linecap:butt;stroke-linejoin:miter;stroke-opacity:1\" d=\"m 147.64034,135.99382 14.24367,14.24359\" id=\"path873\"/>\n",
       "    <path style=\"fill:none;stroke:#000000;stroke-width:0.264583px;stroke-linecap:butt;stroke-linejoin:miter;stroke-opacity:1\" d=\"m 164.04461,135.99382 14.24367,14.24359\" id=\"path875\"/>\n",
       "    <path style=\"fill:none;stroke:#000000;stroke-width:0.264583px;stroke-linecap:butt;stroke-linejoin:miter;stroke-opacity:1\" d=\"m 179.39054,135.99382 14.24367,14.24359\" id=\"path877\"/>\n",
       "    <path style=\"fill:none;stroke:#ff0000;stroke-width:0.264583px;stroke-linecap:butt;stroke-linejoin:miter;stroke-opacity:1;marker-start:url(#marker1193);marker-end:url(#marker1227)\" d=\"M 84.730417,112.69418 63.143179,129.02003 47.780211,108.57531\" id=\"path881\"/>\n",
       "    <path style=\"fill:none;stroke:#ff0000;stroke-width:0.264583px;stroke-linecap:butt;stroke-linejoin:miter;stroke-opacity:1;marker-start:url(#Arrow1Lstart);marker-end:url(#Arrow1Lend)\" d=\"m 141.80061,117.19362 25.74975,11.40044 12.40188,-20.65993\" id=\"path883\"/>\n",
       "    <path style=\"fill:none;stroke:#000000;stroke-width:0.264583px;stroke-linecap:butt;stroke-linejoin:miter;stroke-opacity:1\" d=\"m 63.580221,128.95619 34.580671,0.0924\" id=\"path885\"/>\n",
       "    <path style=\"fill:none;stroke:#000000;stroke-width:0.264583px;stroke-linecap:butt;stroke-linejoin:miter;stroke-opacity:1\" d=\"m 167.4687,128.88907 -36.74089,0.16503\" id=\"path887\"/>\n",
       "    <path style=\"fill:none;stroke:#000000;stroke-width:0.264583px;stroke-linecap:butt;stroke-linejoin:miter;stroke-opacity:1;marker-start:url(#marker1413)\" d=\"m 80.498637,119.3165 c 2.837714,2.93203 4.535777,6.03027 2.252871,9.70909\" id=\"path1277\" sodipodi:nodetypes=\"cc\"/>\n",
       "    <path style=\"fill:none;stroke:#000000;stroke-width:0.264583px;stroke-linecap:butt;stroke-linejoin:miter;stroke-opacity:1;marker-end:url(#marker1435)\" d=\"m 142.19055,120.7017 c -1.60409,2.38418 -2.93985,4.84749 -1.37482,8.16635\" id=\"path1431\" sodipodi:nodetypes=\"cc\"/>\n",
       "    <text xml:space=\"preserve\" style=\"font-style:normal;font-weight:normal;font-size:7.05556px;line-height:1.25;font-family:sans-serif;fill:#000000;fill-opacity:1;stroke:none;stroke-width:0.264583\" x=\"99.053696\" y=\"94.208336\" id=\"text1481\"><tspan sodipodi:role=\"line\" id=\"tspan1479\" x=\"99.053696\" y=\"94.208336\" style=\"font-size:7.05556px;stroke-width:0.264583\">Q</tspan></text>\n",
       "    <text xml:space=\"preserve\" style=\"font-style:normal;font-weight:normal;font-size:7.05556px;line-height:1.25;font-family:sans-serif;fill:#000000;fill-opacity:1;stroke:none;stroke-width:0.264583\" x=\"54.530537\" y=\"136.76636\" id=\"text1485\"><tspan sodipodi:role=\"line\" id=\"tspan1483\" x=\"54.530537\" y=\"136.76636\" style=\"font-size:7.05556px;stroke-width:0.264583\">O</tspan></text>\n",
       "    <text xml:space=\"preserve\" style=\"font-style:normal;font-weight:normal;font-size:7.05556px;line-height:1.25;font-family:sans-serif;fill:#000000;fill-opacity:1;stroke:none;stroke-width:0.264583\" x=\"172.1562\" y=\"134.83026\" id=\"text1489\"><tspan sodipodi:role=\"line\" id=\"tspan1487\" x=\"172.1562\" y=\"134.83026\" style=\"font-size:7.05556px;stroke-width:0.264583\">C</tspan></text>\n",
       "    <text xml:space=\"preserve\" style=\"font-style:normal;font-weight:normal;font-size:10.5833px;line-height:1.25;font-family:sans-serif;fill:#000000;fill-opacity:1;stroke:none;stroke-width:0.264583\" x=\"72.263763\" y=\"108.21267\" id=\"text1493\"><tspan sodipodi:role=\"line\" id=\"tspan1491\" x=\"72.263763\" y=\"108.21267\" style=\"stroke-width:0.264583\">A</tspan></text>\n",
       "    <text xml:space=\"preserve\" style=\"font-style:normal;font-weight:normal;font-size:10.5833px;line-height:1.25;font-family:sans-serif;fill:#000000;fill-opacity:1;stroke:none;stroke-width:0.264583\" x=\"139.2551\" y=\"109.60692\" id=\"text1497\"><tspan sodipodi:role=\"line\" id=\"tspan1495\" x=\"139.2551\" y=\"109.60692\" style=\"stroke-width:0.264583\">B</tspan></text>\n",
       "    <text xml:space=\"preserve\" style=\"font-size:7.05556px;line-height:1.25;font-family:sans-serif;stroke-width:0.264583\" x=\"49.880836\" y=\"107.3227\" id=\"text1505\"><tspan sodipodi:role=\"line\" id=\"tspan1503\" x=\"49.880836\" y=\"107.3227\" style=\"stroke-width:0.264583\">â<tspan style=\"font-size:65%;baseline-shift:sub\" id=\"tspan1531\">y</tspan></tspan></text>\n",
       "    <text xml:space=\"preserve\" style=\"font-size:7.05556px;line-height:1.25;font-family:sans-serif;stroke-width:0.264583\" x=\"147.94624\" y=\"117.91227\" id=\"text1509\"><tspan sodipodi:role=\"line\" id=\"tspan1507\" x=\"147.94624\" y=\"117.91227\" style=\"stroke-width:0.264583\">b<tspan style=\"font-size:65%;baseline-shift:sub\" id=\"tspan1535\">y</tspan></tspan></text>\n",
       "    <text xml:space=\"preserve\" style=\"font-size:7.05556px;line-height:1.25;font-family:sans-serif;stroke-width:0.264583\" x=\"182.06195\" y=\"114.11613\" id=\"text1513\"><tspan sodipodi:role=\"line\" id=\"tspan1511\" x=\"182.06195\" y=\"114.11613\" style=\"stroke-width:0.264583\">b<tspan style=\"font-size:65%;baseline-shift:sub\" id=\"tspan1537\">x</tspan></tspan></text>\n",
       "    <path style=\"fill:none;stroke:#0000ff;stroke-width:0.264583px;stroke-linecap:butt;stroke-linejoin:miter;stroke-opacity:1\" d=\"M 189.16912,128.47083 H 167.4984 v -20.33805\" id=\"path1515\"/>\n",
       "    <text xml:space=\"preserve\" style=\"font-size:7.05556px;line-height:1.25;font-family:sans-serif;stroke-width:0.264583\" x=\"85.698814\" y=\"119.54067\" id=\"text1519\"><tspan sodipodi:role=\"line\" id=\"tspan1517\" x=\"85.698814\" y=\"119.54067\" style=\"stroke-width:0.264583\">â<tspan style=\"font-size:65%;baseline-shift:sub\" id=\"tspan1533\">x</tspan></tspan></text>\n",
       "    <text xml:space=\"preserve\" style=\"font-size:7.05556px;line-height:1.25;font-family:sans-serif;stroke-width:0.264583\" x=\"85.429138\" y=\"101.75543\" id=\"text1523\"><tspan sodipodi:role=\"line\" id=\"tspan1521\" x=\"85.429138\" y=\"101.75543\" style=\"stroke-width:0.264583\">L<tspan style=\"font-size:65%;baseline-shift:sub\" id=\"tspan1551\">a</tspan></tspan></text>\n",
       "    <text xml:space=\"preserve\" style=\"font-size:7.05556px;line-height:1.25;font-family:sans-serif;stroke-width:0.264583\" x=\"117.06631\" y=\"103.13172\" id=\"text1527\"><tspan sodipodi:role=\"line\" id=\"tspan1525\" x=\"117.06631\" y=\"103.13172\" style=\"stroke-width:0.264583\">L<tspan style=\"font-size:65%;baseline-shift:sub\" id=\"tspan1549\">b</tspan></tspan></text>\n",
       "    <text xml:space=\"preserve\" style=\"font-size:4.58611px;line-height:1.25;font-family:sans-serif;stroke-width:0.264583\" x=\"147.87718\" y=\"114.06125\" id=\"text1541\"><tspan sodipodi:role=\"line\" id=\"tspan1539\" x=\"147.87718\" y=\"114.06125\" style=\"font-size:4.58611px;stroke-width:0.264583\">^</tspan></text>\n",
       "    <text xml:space=\"preserve\" style=\"font-size:4.58611px;line-height:1.25;font-family:sans-serif;stroke-width:0.264583\" x=\"181.86467\" y=\"109.93748\" id=\"text1545\"><tspan sodipodi:role=\"line\" id=\"tspan1543\" x=\"181.86467\" y=\"109.93748\" style=\"font-size:4.58611px;stroke-width:0.264583\">^</tspan></text>\n",
       "    <path style=\"fill:#ff0000;stroke:#000000;stroke-width:0.7;stroke-miterlimit:4;stroke-dasharray:none\" id=\"path1559\" d=\"m 88.466244,122.94795 c -0.444807,0.17166 -0.865452,0.38883 -1.249911,0.67051 -0.292719,0.21777 -0.444674,0.53139 -0.560808,0.86675 -0.107548,0.33174 -0.07696,0.66569 0.01659,0.99531 0.131318,0.35608 0.360592,0.65746 0.635799,0.91379 0.424476,0.32769 0.925361,0.51779 1.437269,0.65844 0.538438,0.14089 1.091123,0.16612 1.643729,0.13335 0.484593,-0.0377 0.942671,-0.18805 1.374506,-0.40458 0.327853,-0.17929 0.54539,-0.45526 0.676436,-0.79929 0.106754,-0.3097 0.04606,-0.61007 -0.0736,-0.90386 -0.136753,-0.307 -0.356143,-0.56013 -0.588545,-0.798 -0.233095,-0.22855 -0.496125,-0.42317 -0.768548,-0.60179 -0.264083,-0.16929 -0.552548,-0.28247 -0.853215,-0.36614 -0.357394,-0.0938 -0.72512,-0.13451 -1.093518,-0.14678 -0.409596,-0.009 -0.813144,0.0674 -1.210847,0.15662 -0.161885,0.0247 -0.300122,0.0857 -0.441894,0.1633 -0.08252,0.046 -0.01741,0.16274 0.06512,0.11669 v 0 c 0.129196,-0.0737 0.257201,-0.12642 0.40605,-0.1496 0.386644,-0.0869 0.778942,-0.1622 1.177187,-0.15345 0.357807,0.0116 0.714968,0.0513 1.062146,0.14199 0.287475,0.0797 0.56315,0.18752 0.815724,0.34914 0.264435,0.17322 0.519787,0.36195 0.746246,0.58345 0.220541,0.22536 0.429774,0.46459 0.560441,0.75526 0.107979,0.26168 0.166693,0.52881 0.07219,0.80606 -0.116554,0.31336 -0.314613,0.56325 -0.611378,0.72699 -0.41525,0.20911 -0.856208,0.35363 -1.322464,0.39059 -0.538017,0.0323 -1.076111,0.008 -1.600441,-0.12883 -0.491411,-0.13437 -0.972333,-0.31595 -1.381694,-0.6275 -0.258201,-0.23871 -0.47299,-0.52103 -0.59826,-0.85273 -0.08795,-0.30255 -0.116432,-0.60961 -0.01871,-0.91481 0.106654,-0.30979 0.243229,-0.60103 0.513543,-0.80262 0.375291,-0.27575 0.786995,-0.48662 1.221447,-0.65457 0.08746,-0.0358 0.03688,-0.15946 -0.05059,-0.12369 z\"/>\n",
       "    <path style=\"fill:#ff0000;stroke:#000000;stroke-width:0.7;stroke-miterlimit:4;stroke-dasharray:none\" id=\"path1561\" d=\"m 87.494276,125.02907 c 0.546687,-0.0123 1.093192,0.008 1.639538,0.0245 0.383228,0.0127 0.766604,0.019 1.150019,0.0219 0.27495,-0.002 0.549643,0.009 0.82423,0.0214 0.08837,0.004 0.04822,-10e-4 0.120761,0.012 0.09316,0.0158 0.115502,-0.11595 0.02233,-0.13175 v 0 c -0.08894,-0.0144 -0.04327,-0.01 -0.137102,-0.0138 -0.276256,-0.0124 -0.552622,-0.0238 -0.829241,-0.0216 -0.382399,-0.003 -0.764759,-0.009 -1.146971,-0.0218 -0.548233,-0.0166 -1.096629,-0.0369 -1.645206,-0.0246 -0.09449,0.001 -0.09285,0.13478 0.0016,0.13362 z\"/>\n",
       "    <path style=\"fill:#ff0000;stroke:#000000;stroke-width:0.7;stroke-miterlimit:4;stroke-dasharray:none\" id=\"path1567\" d=\"m 133.80514,120.9139 c -0.48623,0.20806 -0.96424,0.42763 -1.40385,0.72325 -0.41717,0.32229 -0.61129,0.58 -0.59379,1.11649 0.18368,0.67923 0.66801,1.03639 1.24623,1.37601 0.68639,0.33341 1.46158,0.51315 2.21598,0.30522 0.15671,-0.0432 0.3032,-0.11734 0.45481,-0.17602 0.57823,-0.35338 1.16194,-0.86455 1.24047,-1.58505 0.0119,-0.10881 -0.006,-0.21882 -0.009,-0.32823 -0.17495,-0.78924 -0.6692,-0.9746 -1.38421,-1.18468 -0.89066,-0.19877 -1.79626,-0.19715 -2.68981,-0.0326 -0.0929,0.0172 -0.0686,0.14858 0.0243,0.13141 v 0 c 0.87283,-0.16182 1.75761,-0.16282 2.62804,0.0294 0.62962,0.18294 1.13405,0.35997 1.28815,1.06122 0.004,0.0975 0.0225,0.1954 0.0129,0.29253 -0.0667,0.67684 -0.62134,1.15645 -1.15904,1.49145 -0.14296,0.0563 -0.28096,0.12728 -0.42887,0.16881 -0.72303,0.20299 -1.46683,0.0294 -2.12575,-0.2888 -0.53661,-0.31407 -0.99517,-0.64093 -1.1803,-1.26619 -0.0231,-0.45694 0.17275,-0.73168 0.53493,-1.0002 0.43363,-0.2926 0.90687,-0.50714 1.38653,-0.71336 0.0854,-0.0405 0.028,-0.16125 -0.0573,-0.12072 z\"/>\n",
       "    <path style=\"fill:#0000ff;stroke:#000000;stroke-width:0.7;stroke-miterlimit:4;stroke-dasharray:none\" id=\"path1571\" d=\"m 131.78396,124.68241 c 1.02609,-0.48614 1.87347,-1.25693 2.71761,-2.00024 0.68001,-0.6036 1.36093,-1.20623 2.03764,-1.81354 0.15738,-0.14192 0.0834,-0.0885 0.21339,-0.17162 0.0792,-0.0516 0.006,-0.16355 -0.073,-0.11196 v 0 c -0.14595,0.0966 -0.0674,0.0378 -0.22969,0.18413 -0.67639,0.60703 -1.357,1.20938 -2.0367,1.8127 -0.83345,0.73395 -1.66941,1.49602 -2.6817,1.9776 -0.0869,0.0371 -0.0345,0.15999 0.0524,0.12293 z\"/>\n",
       "    <path style=\"fill:#0000ff;stroke:#0000ff;stroke-width:0.7;stroke-miterlimit:4;stroke-dasharray:none\" id=\"path1573\" d=\"m 178.42176,128.33792 c 0.0529,-0.56728 -0.10331,-1.11157 -0.28476,-1.64181 -0.21884,-0.61278 -0.53417,-1.18219 -0.86077,-1.74248 -0.27235,-0.48687 -0.60328,-0.93267 -0.98451,-1.33871 -0.31589,-0.33192 -0.67758,-0.61278 -1.0555,-0.8696 -0.41497,-0.26836 -0.85902,-0.48836 -1.30641,-0.69669 -0.37081,-0.17713 -0.75937,-0.30734 -1.15436,-0.41745 -0.2671,-0.0664 -0.52928,-0.15129 -0.79719,-0.21435 -0.12828,-0.0323 -0.25795,-0.0584 -0.38714,-0.0866 -0.0163,-0.005 -0.29631,-0.0607 -0.29723,-0.0464 -0.003,0.0501 0.0195,0.0985 0.0292,0.14775 0.0858,0.0396 0.1418,-0.0817 0.056,-0.12133 v 0 c -0.12305,0.20663 -0.0568,0.0775 0.18344,0.15052 0.12851,0.0281 0.25751,0.054 0.3851,0.0862 0.26617,0.0626 0.52653,0.14722 0.79192,0.213 0.38797,0.10809 0.76964,0.23581 1.13382,0.40986 0.44093,0.20525 0.87859,0.42195 1.28773,0.68609 0.36991,0.25118 0.72396,0.52589 1.0332,0.85057 0.37466,0.39838 0.69898,0.83652 0.96645,1.3145 0.3222,0.55266 0.63364,1.11413 0.8498,1.71848 0.17537,0.51155 0.32847,1.03649 0.27833,1.58408 -0.0102,0.0939 0.12264,0.10838 0.13285,0.0144 z\"/>\n",
       "    <path style=\"fill:#0000ff;stroke:#0000ff;stroke-width:0.7;stroke-miterlimit:4;stroke-dasharray:none\" id=\"path1583\" d=\"m 182.26122,120.29897 c 0.0281,0.56761 0.0111,1.12951 -0.089,1.68907 -0.10329,0.33516 -0.13487,0.76343 -0.38552,1.03591 -0.11558,0.12565 -0.20753,0.13848 -0.36182,0.196 -0.49949,0.10286 -0.97544,-0.0904 -1.43166,-0.27249 -0.38155,-0.15796 -0.75922,-0.33608 -1.07817,-0.60154 -0.16044,-0.16171 -0.33285,-0.34937 -0.23315,-0.58231 0.20079,-0.28624 0.52894,-0.43951 0.84025,-0.57557 0.37972,-0.15679 0.78449,-0.21608 1.19055,-0.25256 0.30961,-0.0301 0.56416,-0.0366 0.84091,0.1137 0.30059,0.21728 0.56219,0.48281 0.8262,0.74196 0.16156,0.15924 0.32337,0.32011 0.51591,0.44177 0.22282,0.12033 0.46057,0.0503 0.67666,-0.048 0.27663,-0.16358 0.44097,-0.4294 0.55186,-0.72235 0.03,-0.0584 0.0236,-0.12725 0.0627,-0.18001 0.0487,-0.081 -0.0659,-0.14983 -0.11454,-0.0688 v 0 c -0.0354,0.0649 -0.0531,0.13028 -0.0732,0.20174 -0.0974,0.26006 -0.2399,0.49945 -0.48302,0.64822 -0.17189,0.0814 -0.36835,0.14861 -0.54948,0.056 -0.18525,-0.11501 -0.33758,-0.27294 -0.49327,-0.4239 -0.273,-0.26797 -0.54338,-0.54321 -0.85684,-0.76446 -0.30397,-0.16001 -0.57758,-0.16405 -0.91586,-0.12892 -0.4204,0.0379 -0.8393,0.10036 -1.23218,0.26325 -0.34387,0.1509 -0.7041,0.32317 -0.91176,0.65102 -0.1118,0.32773 0.0505,0.50253 0.27303,0.73218 0.331,0.2729 0.71837,0.4608 1.1139,0.62274 0.48844,0.19475 0.99621,0.39395 1.52951,0.27295 0.0779,-0.0312 0.16115,-0.0514 0.23362,-0.0937 0.42063,-0.24538 0.48012,-0.81734 0.59694,-1.23935 0.10077,-0.56741 0.12019,-1.137 0.0911,-1.71253 0,-0.0945 -0.13364,-0.0945 -0.13364,0 z\"/>\n",
       "  </g>\n",
       "</svg>"
      ],
      "text/plain": [
       "<IPython.core.display.SVG object>"
      ]
     },
     "execution_count": 4,
     "metadata": {},
     "output_type": "execute_result"
    }
   ],
   "source": [
    "from IPython.core.display import SVG\n",
    "SVG(filename=\"biela-manivela.svg\")"
   ]
  },
  {
   "cell_type": "code",
   "execution_count": 1,
   "metadata": {},
   "outputs": [],
   "source": [
    "import sympy as sy\n",
    "import sympy.physics.mechanics as me"
   ]
  },
  {
   "cell_type": "code",
   "execution_count": 2,
   "metadata": {},
   "outputs": [],
   "source": [
    "N = me.ReferenceFrame('N')\n",
    "A = me.ReferenceFrame('A')\n",
    "B = me.ReferenceFrame('B')"
   ]
  },
  {
   "cell_type": "code",
   "execution_count": 3,
   "metadata": {},
   "outputs": [],
   "source": [
    "theta,phi = me.dynamicsymbols('theta phi')"
   ]
  },
  {
   "cell_type": "code",
   "execution_count": 4,
   "metadata": {},
   "outputs": [],
   "source": [
    "la,lb = sy.symbols('la lb')"
   ]
  },
  {
   "cell_type": "code",
   "execution_count": 5,
   "metadata": {},
   "outputs": [],
   "source": [
    "A.orient(N,'Axis',[theta,N.z])\n",
    "B.orient(N,'Axis',[sy.pi/2-phi,N.z])"
   ]
  },
  {
   "cell_type": "code",
   "execution_count": 6,
   "metadata": {},
   "outputs": [],
   "source": [
    "O = me.Point('O')\n",
    "O.set_vel(N,0)"
   ]
  },
  {
   "cell_type": "code",
   "execution_count": 7,
   "metadata": {},
   "outputs": [
    {
     "data": {
      "text/latex": [
       "$\\displaystyle la \\dot{\\theta}\\mathbf{\\hat{a}_y}$"
      ],
      "text/plain": [
       "la*theta'*A.y"
      ]
     },
     "execution_count": 7,
     "metadata": {},
     "output_type": "execute_result"
    }
   ],
   "source": [
    "Q = me.Point('Q')\n",
    "Q.set_pos(O,la*A.x)\n",
    "Q.v2pt_theory(O,N,A)"
   ]
  },
  {
   "cell_type": "code",
   "execution_count": 8,
   "metadata": {},
   "outputs": [
    {
     "data": {
      "text/latex": [
       "$\\displaystyle la \\dot{\\theta}\\mathbf{\\hat{a}_y} -  lb \\dot{\\phi}\\mathbf{\\hat{b}_x}$"
      ],
      "text/plain": [
       "la*theta'*A.y - lb*phi'*B.x"
      ]
     },
     "execution_count": 8,
     "metadata": {},
     "output_type": "execute_result"
    }
   ],
   "source": [
    "C = me.Point('C')\n",
    "C.set_pos(O, la*A.x - lb*B.y)\n",
    "C.set_vel(N,(la*A.x - lb*B.y).dt(N))\n",
    "C.vel(N)"
   ]
  },
  {
   "cell_type": "code",
   "execution_count": 9,
   "metadata": {},
   "outputs": [
    {
     "data": {
      "text/latex": [
       "$\\displaystyle la \\cos{\\left(\\theta{\\left(t \\right)} \\right)} \\frac{d}{d t} \\theta{\\left(t \\right)} - lb \\cos{\\left(\\phi{\\left(t \\right)} \\right)} \\frac{d}{d t} \\phi{\\left(t \\right)}$"
      ],
      "text/plain": [
       "la*cos(theta(t))*Derivative(theta(t), t) - lb*cos(phi(t))*Derivative(phi(t), t)"
      ]
     },
     "execution_count": 9,
     "metadata": {},
     "output_type": "execute_result"
    }
   ],
   "source": [
    "EqRC = C.vel(N).express(N).args[0][0][1]\n",
    "EqRC"
   ]
  },
  {
   "cell_type": "code",
   "execution_count": 10,
   "metadata": {},
   "outputs": [],
   "source": [
    "t = me.dynamicsymbols._t\n",
    "#phid,thetad = me.dynamicsymbols('phi,theta',1) <- outra maneira de fazer"
   ]
  },
  {
   "cell_type": "code",
   "execution_count": 11,
   "metadata": {},
   "outputs": [
    {
     "data": {
      "text/latex": [
       "$\\displaystyle \\frac{la \\cos{\\left(\\theta{\\left(t \\right)} \\right)} \\frac{d}{d t} \\theta{\\left(t \\right)}}{lb \\cos{\\left(\\phi{\\left(t \\right)} \\right)}}$"
      ],
      "text/plain": [
       "la*cos(theta(t))*Derivative(theta(t), t)/(lb*cos(phi(t)))"
      ]
     },
     "execution_count": 11,
     "metadata": {},
     "output_type": "execute_result"
    }
   ],
   "source": [
    "phi_ponto = sy.diff(phi,t)\n",
    "sol_phi_ponto = sy.solve(EqRC,phi_ponto)[0]\n",
    "#Sol1 = sy.solve(EqRC,phid)[0] <- outra maneira de fazer\n",
    "sol_phi_ponto"
   ]
  },
  {
   "cell_type": "code",
   "execution_count": 12,
   "metadata": {},
   "outputs": [
    {
     "data": {
      "text/latex": [
       "$\\displaystyle la \\sin{\\left(\\theta{\\left(t \\right)} \\right)} - lb \\sin{\\left(\\phi{\\left(t \\right)} \\right)}$"
      ],
      "text/plain": [
       "la*sin(theta(t)) - lb*sin(phi(t))"
      ]
     },
     "execution_count": 12,
     "metadata": {},
     "output_type": "execute_result"
    }
   ],
   "source": [
    "EqRC_Int = sy.integrate(EqRC,t)\n",
    "EqRC_Int"
   ]
  },
  {
   "cell_type": "code",
   "execution_count": 13,
   "metadata": {},
   "outputs": [
    {
     "data": {
      "text/latex": [
       "$\\displaystyle \\pi - \\operatorname{asin}{\\left(\\frac{la \\sin{\\left(\\theta{\\left(t \\right)} \\right)}}{lb} \\right)}$"
      ],
      "text/plain": [
       "pi - asin(la*sin(theta(t))/lb)"
      ]
     },
     "execution_count": 13,
     "metadata": {},
     "output_type": "execute_result"
    }
   ],
   "source": [
    "sol_phi = sy.solve(EqRC_Int,phi)[0]\n",
    "sol_phi"
   ]
  },
  {
   "cell_type": "code",
   "execution_count": 14,
   "metadata": {},
   "outputs": [
    {
     "data": {
      "text/latex": [
       "$\\displaystyle - la \\sin{\\left(\\theta{\\left(t \\right)} \\right)} \\frac{d}{d t} \\theta{\\left(t \\right)} - lb \\sin{\\left(\\phi{\\left(t \\right)} \\right)} \\frac{d}{d t} \\phi{\\left(t \\right)}$"
      ],
      "text/plain": [
       "-la*sin(theta(t))*Derivative(theta(t), t) - lb*sin(phi(t))*Derivative(phi(t), t)"
      ]
     },
     "execution_count": 14,
     "metadata": {},
     "output_type": "execute_result"
    }
   ],
   "source": [
    "v = C.vel(N).express(N).args[0][0][0]\n",
    "v"
   ]
  },
  {
   "cell_type": "code",
   "execution_count": 15,
   "metadata": {},
   "outputs": [
    {
     "data": {
      "text/latex": [
       "$\\displaystyle \\frac{la^{2} \\sin{\\left(\\theta{\\left(t \\right)} \\right)} \\cos{\\left(\\theta{\\left(t \\right)} \\right)} \\frac{d}{d t} \\theta{\\left(t \\right)}}{lb \\sqrt{- \\frac{la^{2} \\sin^{2}{\\left(\\theta{\\left(t \\right)} \\right)}}{lb^{2}} + 1}} - la \\sin{\\left(\\theta{\\left(t \\right)} \\right)} \\frac{d}{d t} \\theta{\\left(t \\right)}$"
      ],
      "text/plain": [
       "la**2*sin(theta(t))*cos(theta(t))*Derivative(theta(t), t)/(lb*sqrt(-la**2*sin(theta(t))**2/lb**2 + 1)) - la*sin(theta(t))*Derivative(theta(t), t)"
      ]
     },
     "execution_count": 15,
     "metadata": {},
     "output_type": "execute_result"
    }
   ],
   "source": [
    "vsubs = v.subs(phi_ponto,sol_phi_ponto).subs(phi,sol_phi)\n",
    "vsubs"
   ]
  },
  {
   "cell_type": "code",
   "execution_count": 16,
   "metadata": {},
   "outputs": [],
   "source": [
    "theta_ponto = sy.diff(theta,t)\n",
    "tn = 5\n",
    "dic = {theta:0.5*tn, theta_ponto:0.5, la:0.3, lb:0.7}"
   ]
  },
  {
   "cell_type": "code",
   "execution_count": 17,
   "metadata": {},
   "outputs": [
    {
     "data": {
      "text/latex": [
       "$\\displaystyle -0.121660169213847$"
      ],
      "text/plain": [
       "-0.121660169213847"
      ]
     },
     "execution_count": 17,
     "metadata": {},
     "output_type": "execute_result"
    }
   ],
   "source": [
    "vnum = vsubs.subs(dic)\n",
    "vnum"
   ]
  },
  {
   "cell_type": "markdown",
   "metadata": {},
   "source": [
    "Podemos ir um pouco além..."
   ]
  },
  {
   "cell_type": "code",
   "execution_count": 18,
   "metadata": {},
   "outputs": [],
   "source": [
    "import numpy as np"
   ]
  },
  {
   "cell_type": "code",
   "execution_count": 19,
   "metadata": {},
   "outputs": [],
   "source": [
    "tnn = np.linspace(0,20,200)"
   ]
  },
  {
   "cell_type": "code",
   "execution_count": 20,
   "metadata": {},
   "outputs": [],
   "source": [
    "V = np.zeros(200)"
   ]
  },
  {
   "cell_type": "code",
   "execution_count": 25,
   "metadata": {},
   "outputs": [],
   "source": [
    "for i in range(0,200):\n",
    "    V[i] = vsubs.subs({theta:0.5*tnn[i], theta_ponto:0.5, la:0.3, lb:0.7})"
   ]
  },
  {
   "cell_type": "code",
   "execution_count": 27,
   "metadata": {},
   "outputs": [],
   "source": [
    "import matplotlib.pyplot as plt"
   ]
  },
  {
   "cell_type": "code",
   "execution_count": 38,
   "metadata": {},
   "outputs": [
    {
     "data": {
      "text/plain": [
       "Text(0.5, 1.0, 'Velocidade do pistão')"
      ]
     },
     "execution_count": 38,
     "metadata": {},
     "output_type": "execute_result"
    },
    {
     "data": {
      "image/png": "[encoded data removed]",
      "text/plain": [
       "<Figure size 900x600 with 1 Axes>"
      ]
     },
     "metadata": {
      "needs_background": "light"
     },
     "output_type": "display_data"
    }
   ],
   "source": [
    "plt.figure(figsize=(6,4),dpi=150)\n",
    "plt.plot(tnn, V)\n",
    "plt.xlabel('Tempo [s]')\n",
    "plt.ylabel('Velocidade do pistão m/s')\n",
    "plt.grid(True)\n",
    "plt.title('Velocidade do pistão')"
   ]
  }
 ],
 "metadata": {
  "kernelspec": {
   "display_name": "Python 3",
   "language": "python",
   "name": "python3"
  },
  "language_info": {
   "codemirror_mode": {
    "name": "ipython",
    "version": 3
   },
   "file_extension": ".py",
   "mimetype": "text/x-python",
   "name": "python",
   "nbconvert_exporter": "python",
   "pygments_lexer": "ipython3",
   "version": "3.8.5"
  }
 },
 "nbformat": 4,
 "nbformat_minor": 4
}
