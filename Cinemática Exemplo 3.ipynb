{
 "cells": [
  {
   "cell_type": "markdown",
   "metadata": {},
   "source": [
    "# Cinemática - Exemplo 3\n",
    "## Professor Paulo Victor"
   ]
  },
  {
   "cell_type": "markdown",
   "metadata": {},
   "source": [
    "Obtenha a aceleração absoluta em um ponto na borda do disco menor. Considere: $R$ é o raio do disco maior, $r$ é o raio do disco menor. "
   ]
  },
  {
   "cell_type": "code",
   "execution_count": 1,
   "metadata": {},
   "outputs": [],
   "source": [
    "from IPython.display import Video\n",
    "Video(\"DinEx1.mp4\",width = 650) # eixo azul é o eixo z; eixo vermelho é o eixo x; eixo verde é o eixo y"
   ]
  },
  {
   "cell_type": "code",
   "execution_count": 2,
   "metadata": {},
   "outputs": [],
   "source": [
    "import sympy as sy\n",
    "import sympy.physics.mechanics as me"
   ]
  },
  {
   "cell_type": "code",
   "execution_count": 3,
   "metadata": {},
   "outputs": [],
   "source": [
    "N = me.ReferenceFrame('N') # Referencial inercial\n",
    "A = me.ReferenceFrame('A') # Referencial que se move junto do disco maior\n",
    "B = me.ReferenceFrame('B') # Referencial que se move junto do disco menor"
   ]
  },
  {
   "cell_type": "code",
   "execution_count": 4,
   "metadata": {},
   "outputs": [],
   "source": [
    "R,r = sy.symbols('R r')"
   ]
  },
  {
   "cell_type": "code",
   "execution_count": 5,
   "metadata": {},
   "outputs": [],
   "source": [
    "theta,phi = me.dynamicsymbols('theta phi')"
   ]
  },
  {
   "cell_type": "code",
   "execution_count": 6,
   "metadata": {},
   "outputs": [],
   "source": [
    "A.orient(N,'Axis',[theta,N.z])"
   ]
  },
  {
   "cell_type": "code",
   "execution_count": 7,
   "metadata": {},
   "outputs": [
    {
     "data": {
      "text/latex": [
       "$\\displaystyle \\dot{\\theta}\\mathbf{\\hat{n}_z}$"
      ],
      "text/plain": [
       "theta'*N.z"
      ]
     },
     "execution_count": 7,
     "metadata": {},
     "output_type": "execute_result"
    }
   ],
   "source": [
    "A.ang_vel_in(N)"
   ]
  },
  {
   "cell_type": "code",
   "execution_count": 8,
   "metadata": {},
   "outputs": [],
   "source": [
    "B.orient(A,'Axis',[phi,A.x])"
   ]
  },
  {
   "cell_type": "code",
   "execution_count": 9,
   "metadata": {},
   "outputs": [
    {
     "data": {
      "text/latex": [
       "$\\displaystyle \\dot{\\phi}\\mathbf{\\hat{a}_x} + \\dot{\\theta}\\mathbf{\\hat{n}_z}$"
      ],
      "text/plain": [
       "theta'*N.z + phi'*A.x"
      ]
     },
     "execution_count": 9,
     "metadata": {},
     "output_type": "execute_result"
    }
   ],
   "source": [
    "B.ang_vel_in(N)"
   ]
  },
  {
   "cell_type": "code",
   "execution_count": 10,
   "metadata": {},
   "outputs": [
    {
     "data": {
      "text/latex": [
       "$\\displaystyle \\ddot{\\phi}\\mathbf{\\hat{a}_x} + \\dot{\\phi} \\dot{\\theta}\\mathbf{\\hat{a}_y} + \\ddot{\\theta}\\mathbf{\\hat{n}_z}$"
      ],
      "text/plain": [
       "theta''*N.z + phi''*A.x + phi'*theta'*A.y"
      ]
     },
     "execution_count": 10,
     "metadata": {},
     "output_type": "execute_result"
    }
   ],
   "source": [
    "B.ang_acc_in(N)"
   ]
  },
  {
   "cell_type": "code",
   "execution_count": 11,
   "metadata": {},
   "outputs": [],
   "source": [
    "O = me.Point('O')\n",
    "O.set_vel(N,0)"
   ]
  },
  {
   "cell_type": "code",
   "execution_count": 12,
   "metadata": {},
   "outputs": [],
   "source": [
    "P = me.Point('P')"
   ]
  },
  {
   "cell_type": "code",
   "execution_count": 13,
   "metadata": {},
   "outputs": [
    {
     "data": {
      "text/latex": [
       "$\\displaystyle R\\mathbf{\\hat{a}_y} + r\\mathbf{\\hat{a}_z}$"
      ],
      "text/plain": [
       "R*A.y + r*A.z"
      ]
     },
     "execution_count": 13,
     "metadata": {},
     "output_type": "execute_result"
    }
   ],
   "source": [
    "p_Ol_O = R*A.y + r*A.z\n",
    "p_Ol_O"
   ]
  },
  {
   "cell_type": "code",
   "execution_count": 14,
   "metadata": {},
   "outputs": [
    {
     "data": {
      "text/latex": [
       "$\\displaystyle r\\mathbf{\\hat{b}_z}$"
      ],
      "text/plain": [
       "r*B.z"
      ]
     },
     "execution_count": 14,
     "metadata": {},
     "output_type": "execute_result"
    }
   ],
   "source": [
    "p_P_Ol = r*B.z\n",
    "p_P_Ol"
   ]
  },
  {
   "cell_type": "code",
   "execution_count": 15,
   "metadata": {},
   "outputs": [
    {
     "data": {
      "text/latex": [
       "$\\displaystyle R\\mathbf{\\hat{a}_y} + r\\mathbf{\\hat{a}_z} + r\\mathbf{\\hat{b}_z}$"
      ],
      "text/plain": [
       "R*A.y + r*A.z + r*B.z"
      ]
     },
     "execution_count": 15,
     "metadata": {},
     "output_type": "execute_result"
    }
   ],
   "source": [
    "p_P_O = p_Ol_O + p_P_Ol\n",
    "p_P_O"
   ]
  },
  {
   "cell_type": "code",
   "execution_count": 16,
   "metadata": {},
   "outputs": [],
   "source": [
    "P.set_pos(O,p_P_O)\n",
    "P.set_vel(N,p_P_O.dt(N))"
   ]
  },
  {
   "cell_type": "code",
   "execution_count": 17,
   "metadata": {},
   "outputs": [],
   "source": [
    "#P.set_pos(O,R*A.y + r*A.z + R*B.z)\n",
    "#P.set_vel(N,(R*A.y + r*A.z + R*B.z).dt(N))"
   ]
  },
  {
   "cell_type": "code",
   "execution_count": 18,
   "metadata": {},
   "outputs": [
    {
     "data": {
      "text/latex": [
       "$\\displaystyle -  R \\dot{\\theta}\\mathbf{\\hat{a}_x} + r \\operatorname{sin}\\left(\\phi\\right) \\dot{\\theta}\\mathbf{\\hat{b}_x} -  r \\dot{\\phi}\\mathbf{\\hat{b}_y}$"
      ],
      "text/plain": [
       "- R*theta'*A.x + r*sin(phi)*theta'*B.x - r*phi'*B.y"
      ]
     },
     "execution_count": 18,
     "metadata": {},
     "output_type": "execute_result"
    }
   ],
   "source": [
    "P.vel(N)"
   ]
  },
  {
   "cell_type": "code",
   "execution_count": 19,
   "metadata": {},
   "outputs": [
    {
     "data": {
      "text/latex": [
       "$\\displaystyle -  R \\ddot{\\theta}\\mathbf{\\hat{a}_x} -  R \\dot{\\theta}^{2}\\mathbf{\\hat{a}_y} + (r \\operatorname{sin}\\left(\\phi\\right) \\ddot{\\theta} + 2 r \\operatorname{cos}\\left(\\phi\\right) \\dot{\\phi} \\dot{\\theta})\\mathbf{\\hat{b}_x} + (r \\operatorname{sin}\\left(\\phi\\right) \\operatorname{cos}\\left(\\phi\\right) \\dot{\\theta}^{2} - r \\ddot{\\phi})\\mathbf{\\hat{b}_y} + (- r \\operatorname{sin}^{2}\\left(\\phi\\right) \\dot{\\theta}^{2} - r \\dot{\\phi}^{2})\\mathbf{\\hat{b}_z}$"
      ],
      "text/plain": [
       "- R*theta''*A.x - R*theta'**2*A.y + (r*sin(phi)*theta'' + 2*r*cos(phi)*phi'*theta')*B.x + (r*sin(phi)*cos(phi)*theta'**2 - r*phi'')*B.y + (-r*sin(phi)**2*theta'**2 - r*phi'**2)*B.z"
      ]
     },
     "execution_count": 19,
     "metadata": {},
     "output_type": "execute_result"
    }
   ],
   "source": [
    "P.acc(N)"
   ]
  },
  {
   "cell_type": "markdown",
   "metadata": {},
   "source": [
    "## Transformação de Coordenadas"
   ]
  },
  {
   "cell_type": "code",
   "execution_count": 20,
   "metadata": {},
   "outputs": [
    {
     "data": {
      "text/latex": [
       "$\\displaystyle (R \\operatorname{sin}\\left(\\theta\\right) \\dot{\\theta}^{2} - R \\operatorname{cos}\\left(\\theta\\right) \\ddot{\\theta} + \\left(r \\operatorname{sin}\\left(\\phi\\right) \\ddot{\\theta} + 2 r \\operatorname{cos}\\left(\\phi\\right) \\dot{\\phi} \\dot{\\theta}\\right) \\operatorname{cos}\\left(\\theta\\right) + \\left(- r \\operatorname{sin}^{2}\\left(\\phi\\right) \\dot{\\theta}^{2} - r \\dot{\\phi}^{2}\\right) \\operatorname{sin}\\left(\\phi\\right) \\operatorname{sin}\\left(\\theta\\right) - \\left(r \\operatorname{sin}\\left(\\phi\\right) \\operatorname{cos}\\left(\\phi\\right) \\dot{\\theta}^{2} - r \\ddot{\\phi}\\right) \\operatorname{sin}\\left(\\theta\\right) \\operatorname{cos}\\left(\\phi\\right))\\mathbf{\\hat{n}_x} + (- R \\operatorname{sin}\\left(\\theta\\right) \\ddot{\\theta} - R \\operatorname{cos}\\left(\\theta\\right) \\dot{\\theta}^{2} + \\left(r \\operatorname{sin}\\left(\\phi\\right) \\ddot{\\theta} + 2 r \\operatorname{cos}\\left(\\phi\\right) \\dot{\\phi} \\dot{\\theta}\\right) \\operatorname{sin}\\left(\\theta\\right) - \\left(- r \\operatorname{sin}^{2}\\left(\\phi\\right) \\dot{\\theta}^{2} - r \\dot{\\phi}^{2}\\right) \\operatorname{sin}\\left(\\phi\\right) \\operatorname{cos}\\left(\\theta\\right) + \\left(r \\operatorname{sin}\\left(\\phi\\right) \\operatorname{cos}\\left(\\phi\\right) \\dot{\\theta}^{2} - r \\ddot{\\phi}\\right) \\operatorname{cos}\\left(\\phi\\right) \\operatorname{cos}\\left(\\theta\\right))\\mathbf{\\hat{n}_y} + (\\left(- r \\operatorname{sin}^{2}\\left(\\phi\\right) \\dot{\\theta}^{2} - r \\dot{\\phi}^{2}\\right) \\operatorname{cos}\\left(\\phi\\right) + \\left(r \\operatorname{sin}\\left(\\phi\\right) \\operatorname{cos}\\left(\\phi\\right) \\dot{\\theta}^{2} - r \\ddot{\\phi}\\right) \\operatorname{sin}\\left(\\phi\\right))\\mathbf{\\hat{n}_z}$"
      ],
      "text/plain": [
       "(R*sin(theta)*theta'**2 - R*cos(theta)*theta'' + (r*sin(phi)*theta'' + 2*r*cos(phi)*phi'*theta')*cos(theta) + (-r*sin(phi)**2*theta'**2 - r*phi'**2)*sin(phi)*sin(theta) - (r*sin(phi)*cos(phi)*theta'**2 - r*phi'')*sin(theta)*cos(phi))*N.x + (-R*sin(theta)*theta'' - R*cos(theta)*theta'**2 + (r*sin(phi)*theta'' + 2*r*cos(phi)*phi'*theta')*sin(theta) - (-r*sin(phi)**2*theta'**2 - r*phi'**2)*sin(phi)*cos(theta) + (r*sin(phi)*cos(phi)*theta'**2 - r*phi'')*cos(phi)*cos(theta))*N.y + ((-r*sin(phi)**2*theta'**2 - r*phi'**2)*cos(phi) + (r*sin(phi)*cos(phi)*theta'**2 - r*phi'')*sin(phi))*N.z"
      ]
     },
     "execution_count": 20,
     "metadata": {},
     "output_type": "execute_result"
    }
   ],
   "source": [
    "P.acc(N).express(N)"
   ]
  },
  {
   "cell_type": "code",
   "execution_count": 21,
   "metadata": {},
   "outputs": [
    {
     "data": {
      "text/latex": [
       "$\\displaystyle \\left[\\begin{matrix}\\cos{\\left(\\theta{\\left(t \\right)} \\right)} & \\sin{\\left(\\theta{\\left(t \\right)} \\right)} & 0\\\\- \\sin{\\left(\\theta{\\left(t \\right)} \\right)} & \\cos{\\left(\\theta{\\left(t \\right)} \\right)} & 0\\\\0 & 0 & 1\\end{matrix}\\right]$"
      ],
      "text/plain": [
       "Matrix([\n",
       "[ cos(theta(t)), sin(theta(t)), 0],\n",
       "[-sin(theta(t)), cos(theta(t)), 0],\n",
       "[             0,             0, 1]])"
      ]
     },
     "execution_count": 21,
     "metadata": {},
     "output_type": "execute_result"
    }
   ],
   "source": [
    "A.dcm(N)"
   ]
  },
  {
   "cell_type": "code",
   "execution_count": 22,
   "metadata": {},
   "outputs": [
    {
     "data": {
      "text/latex": [
       "$\\displaystyle \\left[\\begin{matrix}\\cos{\\left(\\theta{\\left(t \\right)} \\right)} & \\sin{\\left(\\theta{\\left(t \\right)} \\right)} & 0\\\\- \\sin{\\left(\\theta{\\left(t \\right)} \\right)} \\cos{\\left(\\phi{\\left(t \\right)} \\right)} & \\cos{\\left(\\phi{\\left(t \\right)} \\right)} \\cos{\\left(\\theta{\\left(t \\right)} \\right)} & \\sin{\\left(\\phi{\\left(t \\right)} \\right)}\\\\\\sin{\\left(\\phi{\\left(t \\right)} \\right)} \\sin{\\left(\\theta{\\left(t \\right)} \\right)} & - \\sin{\\left(\\phi{\\left(t \\right)} \\right)} \\cos{\\left(\\theta{\\left(t \\right)} \\right)} & \\cos{\\left(\\phi{\\left(t \\right)} \\right)}\\end{matrix}\\right]$"
      ],
      "text/plain": [
       "Matrix([\n",
       "[             cos(theta(t)),              sin(theta(t)),           0],\n",
       "[-sin(theta(t))*cos(phi(t)),  cos(phi(t))*cos(theta(t)), sin(phi(t))],\n",
       "[ sin(phi(t))*sin(theta(t)), -sin(phi(t))*cos(theta(t)), cos(phi(t))]])"
      ]
     },
     "execution_count": 22,
     "metadata": {},
     "output_type": "execute_result"
    }
   ],
   "source": [
    "B.dcm(N)"
   ]
  }
 ],
 "metadata": {
  "kernelspec": {
   "display_name": "Python 3",
   "language": "python",
   "name": "python3"
  },
  "language_info": {
   "codemirror_mode": {
    "name": "ipython",
    "version": 3
   },
   "file_extension": ".py",
   "mimetype": "text/x-python",
   "name": "python",
   "nbconvert_exporter": "python",
   "pygments_lexer": "ipython3",
   "version": "3.8.5"
  }
 },
 "nbformat": 4,
 "nbformat_minor": 4
}
